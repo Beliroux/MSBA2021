{
 "cells": [
  {
   "cell_type": "markdown",
   "metadata": {},
   "source": [
    "# MGMTMSA 403 Assignment 1: \n",
    "# Operating Room Scheduling Optimization"
   ]
  },
  {
   "cell_type": "markdown",
   "metadata": {},
   "source": [
    "#### By Xiaoyi Wang"
   ]
  },
  {
   "cell_type": "markdown",
   "metadata": {},
   "source": [
    "### Part A\n",
    "<br> First, formulate a schedule that minimizes the total under-allocation of each department\n",
    "to operating rooms. For example, General Surgery currently receives 48.4% of the total\n",
    "operating room time, and should therefore receive 48.4% of the total operating room time in the\n",
    "new schedule as well. In particular, the CEO has specified that under-allocation is to be avoided,\n",
    "meaning a penalty should be incurred if a department is allocated less than its target %, but\n",
    "there should be no penalty if a department is allocated more than its target % of operating\n",
    "room time.\n",
    "\n",
    "<br> Your model should produce a new schedule that minimizes the total under-allocation (on a\n",
    "percentage basis). The reason for representing allocation on a percentage basis is that using\n",
    "units of time is not equitable: For example, a loss of 1 hour per week is much more disruptive\n",
    "to Oral Surgery (currently 10 hrs/week) than it is for General Surgery (92 hrs/week)."
   ]
  },
  {
   "cell_type": "code",
   "execution_count": 4,
   "metadata": {},
   "outputs": [
    {
     "name": "stdout",
     "output_type": "stream",
     "text": [
      "Using license file C:\\Users\\jason\\gurobi.lic\n",
      "Academic license - for non-commercial use only - expires 2021-01-12\n",
      "Gurobi Optimizer version 9.1.0 build v9.1.0rc0 (win64)\n",
      "Thread count: 4 physical cores, 8 logical processors, using up to 8 threads\n",
      "Optimize a model with 37 rows, 156 columns and 312 nonzeros\n",
      "Model fingerprint: 0x93771b6d\n",
      "Variable types: 6 continuous, 150 integer (150 binary)\n",
      "Coefficient statistics:\n",
      "  Matrix range     [1e+00, 9e+00]\n",
      "  Objective range  [1e-02, 1e-01]\n",
      "  Bounds range     [1e+00, 1e+00]\n",
      "  RHS range        [1e+00, 1e+02]\n",
      "Found heuristic solution: objective 6.0000000\n",
      "Found heuristic solution: objective 6.0000000\n",
      "Presolve removed 6 rows and 0 columns\n",
      "Presolve time: 0.00s\n",
      "Presolved: 31 rows, 156 columns, 306 nonzeros\n",
      "Variable types: 4 continuous, 152 integer (150 binary)\n",
      "\n",
      "Root relaxation: objective 2.066116e-03, 63 iterations, 0.00 seconds\n",
      "\n",
      "    Nodes    |    Current Node    |     Objective Bounds      |     Work\n",
      " Expl Unexpl |  Obj  Depth IntInf | Incumbent    BestBd   Gap | It/Node Time\n",
      "\n",
      "     0     0    0.00207    0   10    6.00000    0.00207   100%     -    0s\n",
      "H    0     0                       0.5434075    0.00207   100%     -    0s\n",
      "H    0     0                       0.3764445    0.00207  99.5%     -    0s\n",
      "H    0     0                       0.2107409    0.00207  99.0%     -    0s\n",
      "H    0     0                       0.1514145    0.00207  98.6%     -    0s\n",
      "H    0     0                       0.1368984    0.00207  98.5%     -    0s\n",
      "     0     0    0.04950    0   11    0.13690    0.04950  63.8%     -    0s\n",
      "H    0     0                       0.1091286    0.04950  54.6%     -    0s\n",
      "H    0     0                       0.0519060    0.04950  4.63%     -    0s\n",
      "     0     0     cutoff    0         0.05191    0.05191  0.00%     -    0s\n",
      "\n",
      "Cutting planes:\n",
      "  Cover: 1\n",
      "  MIR: 4\n",
      "  RLT: 1\n",
      "\n",
      "Explored 1 nodes (180 simplex iterations) in 0.03 seconds\n",
      "Thread count was 8 (of 8 available processors)\n",
      "\n",
      "Solution count 9: 0.051906 0.109129 0.136898 ... 6\n",
      "\n",
      "Optimal solution found (tolerance 1.00e-04)\n",
      "Best objective 5.190597648317e-02, best bound 5.190597648317e-02, gap 0.0000%\n"
     ]
    }
   ],
   "source": [
    "from gurobipy import *\n",
    "import numpy as np\n",
    "\n",
    "mod = Model()\n",
    "\n",
    "tr = 213.5 #total hours\n",
    "\n",
    "# Target allocated time avoiding under-allocation\n",
    "t = [tr * x for x in [0.484, 0.042, 0.253, 0.074, 0.053, 0.095]]\n",
    "\n",
    "# duration of the room avaliability from Monday to Friday\n",
    "d = np.array([[9,9,9,9,7.5], [9,9,9,9,7.5], [9,9,9,9,7.5], [9,9,9,9,7.5], [9,8,8,8,6.5]])\n",
    "\n",
    "# binary decision for every possibilities of i department gets j room on k weekday.\n",
    "i = len(t)\n",
    "j = len(d[0])\n",
    "k = len(d)\n",
    "\n",
    "x = mod.addVars(i, j, k, vtype = GRB.BINARY)\n",
    "\n",
    "s = mod.addVars(i)\n",
    "\n",
    "#Constraint\n",
    "for i in range(6):\n",
    "    mod.addConstr(t[i] - sum(sum(x[i,j,k] * d[j][k] for j in range(5)) for k in range (5)) <= s[i])\n",
    "\n",
    "for j in range(5):\n",
    "    for k in range(5):\n",
    "        mod.addConstr(sum(x[i,j,k] for i in range(6)) <= 1)\n",
    "\n",
    "pen_con = mod.addConstrs(s[i] >= 0 for i in range(6))\n",
    "\n",
    "\n",
    "#Objective\n",
    "mod.setObjective(sum(s[i] / t[i] for i in range(6)), GRB.MINIMIZE)\n",
    "mod.update()\n",
    "mod.optimize()"
   ]
  },
  {
   "cell_type": "code",
   "execution_count": 5,
   "metadata": {},
   "outputs": [
    {
     "data": {
      "text/plain": [
       "0.05190597648316861"
      ]
     },
     "execution_count": 5,
     "metadata": {},
     "output_type": "execute_result"
    }
   ],
   "source": [
    "mod.objval"
   ]
  },
  {
   "cell_type": "markdown",
   "metadata": {},
   "source": [
    "### Part B\n",
    "<br> Operating rooms Main-1, Main-2 will be located on the first floor of the new hospital, Main-3 and Main-4 will be on the second floor, and Main-5 will be located on the third floor. \n",
    "\n",
    "<br> To improve communication and mobility among department staff, the CEO has inquired whether it is possible to devise the schedule so that no department is split between two or more floors on the same day. For example, it is acceptable if a department is exclusively assigned to Main-1 on Monday and then Main-5 on Tuesday, but not acceptable if a department is assigned to Main-1 and Main-5 on the same day.\n",
    "\n",
    "<br>Incorporate constraints into your base model from part a) to ensure that no department is allocated rooms on two different floors on the same day."
   ]
  },
  {
   "cell_type": "code",
   "execution_count": 6,
   "metadata": {},
   "outputs": [
    {
     "name": "stdout",
     "output_type": "stream",
     "text": [
      "Gurobi Optimizer version 9.1.0 build v9.1.0rc0 (win64)\n",
      "Thread count: 4 physical cores, 8 logical processors, using up to 8 threads\n",
      "Optimize a model with 157 rows, 246 columns and 642 nonzeros\n",
      "Model fingerprint: 0xfcb457da\n",
      "Variable types: 96 continuous, 150 integer (150 binary)\n",
      "Coefficient statistics:\n",
      "  Matrix range     [1e+00, 9e+00]\n",
      "  Objective range  [1e-02, 1e-01]\n",
      "  Bounds range     [1e+00, 1e+00]\n",
      "  RHS range        [1e+00, 1e+02]\n",
      "Found heuristic solution: objective 6.0000000\n",
      "Found heuristic solution: objective 6.0000000\n",
      "Presolve removed 96 rows and 90 columns\n",
      "Presolve time: 0.00s\n",
      "Presolved: 61 rows, 156 columns, 456 nonzeros\n",
      "Variable types: 4 continuous, 152 integer (150 binary)\n",
      "\n",
      "Root relaxation: objective 1.580699e-01, 69 iterations, 0.00 seconds\n",
      "\n",
      "    Nodes    |    Current Node    |     Objective Bounds      |     Work\n",
      " Expl Unexpl |  Obj  Depth IntInf | Incumbent    BestBd   Gap | It/Node Time\n",
      "\n",
      "H    0     0                       0.1580699    0.00000   100%     -    0s\n",
      "     0     0     cutoff    0         0.15807    0.15807  0.00%     -    0s\n",
      "\n",
      "Explored 0 nodes (121 simplex iterations) in 0.01 seconds\n",
      "Thread count was 8 (of 8 available processors)\n",
      "\n",
      "Solution count 3: 0.15807 6 6 \n",
      "\n",
      "Optimal solution found (tolerance 1.00e-04)\n",
      "Best objective 1.580699479358e-01, best bound 1.580699479358e-01, gap 0.0000%\n"
     ]
    }
   ],
   "source": [
    "fmod = Model()\n",
    "\n",
    "tr = 213.5 #total hours\n",
    "\n",
    "# Target allocated time avoiding under-allocation\n",
    "t = [tr * x for x in [0.484, 0.042, 0.253, 0.074, 0.053, 0.095]]\n",
    "\n",
    "# duration of the room avaliability from Monday to Friday\n",
    "d = np.array([[9,9,9,9,7.5], [9,9,9,9,7.5], [9,9,9,9,7.5], [9,9,9,9,7.5], [9,8,8,8,6.5]])\n",
    "\n",
    "# binary decision for every possibilities of i department gets j room on k weekday.\n",
    "i = len(t)\n",
    "j = len(d[0])\n",
    "k = len(d)\n",
    "\n",
    "x = fmod.addVars(i, j, k, vtype = GRB.BINARY)\n",
    "\n",
    "s = fmod.addVars(i)\n",
    "\n",
    "f = fmod.addVars(i, j, 3)\n",
    "\n",
    "#Constraint\n",
    "for i in range(6):\n",
    "    fmod.addConstr(t[i] - sum(sum(x[i,j,k] * d[j][k] for j in range(5)) for k in range (5)) <= s[i])\n",
    "\n",
    "for j in range(5):\n",
    "    for k in range(5):\n",
    "        fmod.addConstr(sum(x[i,j,k] for i in range(6)) <= 1)\n",
    "\n",
    "pen_con = fmod.addConstrs(s[i] >= 0 for i in range(6))\n",
    "\n",
    "for i in range(6):\n",
    "    for k in range(5):\n",
    "        fmod.addConstr((2 * f[i, k, 0]) >= (x[i,0,k] + x[i,1,k]))\n",
    "        fmod.addConstr((2 * f[i, k, 1]) >= (x[i,2,k] + x[i,3,k]))\n",
    "        fmod.addConstr(f[i, k, 2] >= x[i,4,k])\n",
    "\n",
    "for i in range(6):\n",
    "    for k in range(5):\n",
    "        fmod.addConstr(sum(f[i,k,l] for l in range(3)) <= 1)\n",
    "    \n",
    "\n",
    "#Objective\n",
    "fmod.setObjective(sum(s[i] / t[i] for i in range(6)), GRB.MINIMIZE)\n",
    "fmod.update()\n",
    "fmod.optimize()"
   ]
  },
  {
   "cell_type": "code",
   "execution_count": 7,
   "metadata": {},
   "outputs": [
    {
     "data": {
      "text/plain": [
       "0.15806994793581977"
      ]
     },
     "execution_count": 7,
     "metadata": {},
     "output_type": "execute_result"
    }
   ],
   "source": [
    "fmod.Objval"
   ]
  }
 ],
 "metadata": {
  "kernelspec": {
   "display_name": "Python 3",
   "language": "python",
   "name": "python3"
  },
  "language_info": {
   "codemirror_mode": {
    "name": "ipython",
    "version": 3
   },
   "file_extension": ".py",
   "mimetype": "text/x-python",
   "name": "python",
   "nbconvert_exporter": "python",
   "pygments_lexer": "ipython3",
   "version": "3.7.3"
  }
 },
 "nbformat": 4,
 "nbformat_minor": 4
}
