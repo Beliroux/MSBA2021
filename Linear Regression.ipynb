{
 "cells": [
  {
   "cell_type": "markdown",
   "metadata": {},
   "source": [
    "# Homework 1 - Linear Regression\n",
    "\n",
    "## Dataset\n",
    "The dataset you will be using is the \"Bike Sharing\". \n",
    "\n",
    "There are two data files: \"BikeSharing_training.csv\" and \"BikeSharing_Xtest.csv\"<br/>\n",
    "Both files have the following fields, except cnt which is not available in \"BikeSharing_Xtest.csv\"\n",
    "\n",
    "Features:\n",
    "- season : season (1:winter, 2:spring, 3:summer, 4:fall)\n",
    "- mnth : month ( 1 to 12)\n",
    "- hr : hour (0 to 23)\n",
    "- holiday : weather day is holiday or not\n",
    "- weekday : day of the week\n",
    "- workingday : if day is neither weekend nor holiday is 1, otherwise is 0.\n",
    "+ weathersit :\n",
    "- 1: Clear, Few clouds, Partly cloudy, Partly cloudy\n",
    "- 2: Mist + Cloudy, Mist + Broken clouds, Mist + Few clouds, Mist\n",
    "- 3: Light Snow, Light Rain + Thunderstorm + Scattered clouds, Light Rain + Scattered clouds\n",
    "- 4: Heavy Rain + Ice Pallets + Thunderstorm + Mist, Snow + Fog\n",
    "- temp : Normalized temperature in Celsius. The values are derived via (t-t_min)/(t_max-t_min), t_min=-8, t_max=+39 (only in hourly scale)\n",
    "- atemp: Normalized feeling temperature in Celsius. The values are derived via (t-t_min)/(t_max-t_min), t_min=-16, t_max=+50 (only in hourly scale)\n",
    "- hum: Normalized humidity. The values are divided to 100 (max)\n",
    "- windspeed: Normalized wind speed. The values are divided to 67 (max)\n",
    "\n",
    "Target:\n",
    "- cnt: count of total rental bikes\n",
    "\n",
    "\n",
    "Training dataset, \"BikeSharing_training.csv\", contains 300 rows and 12 columns. This is the training set containing both of the features and the target.<br/>\n",
    "Test dataset, \"BikeSharing_Xtest.csv\", contains 200 rows and 11 columns. This is the test set which only contains the features.<br/>\n",
    "\n",
    "Your goal is to predict the number of total rental bikes (cnt) based on the features."
   ]
  },
  {
   "cell_type": "code",
   "execution_count": 2,
   "metadata": {},
   "outputs": [],
   "source": [
    "import csv\n",
    "import numpy as np\n",
    "import pandas as pd"
   ]
  },
  {
   "cell_type": "markdown",
   "metadata": {},
   "source": [
    "Load the training data and View the first 5 lines"
   ]
  },
  {
   "cell_type": "code",
   "execution_count": 3,
   "metadata": {},
   "outputs": [
    {
     "data": {
      "text/html": [
       "<div>\n",
       "<style scoped>\n",
       "    .dataframe tbody tr th:only-of-type {\n",
       "        vertical-align: middle;\n",
       "    }\n",
       "\n",
       "    .dataframe tbody tr th {\n",
       "        vertical-align: top;\n",
       "    }\n",
       "\n",
       "    .dataframe thead th {\n",
       "        text-align: right;\n",
       "    }\n",
       "</style>\n",
       "<table border=\"1\" class=\"dataframe\">\n",
       "  <thead>\n",
       "    <tr style=\"text-align: right;\">\n",
       "      <th></th>\n",
       "      <th>season</th>\n",
       "      <th>mnth</th>\n",
       "      <th>hr</th>\n",
       "      <th>holiday</th>\n",
       "      <th>weekday</th>\n",
       "      <th>workingday</th>\n",
       "      <th>weathersit</th>\n",
       "      <th>temp</th>\n",
       "      <th>atemp</th>\n",
       "      <th>hum</th>\n",
       "      <th>windspeed</th>\n",
       "      <th>cnt</th>\n",
       "    </tr>\n",
       "  </thead>\n",
       "  <tbody>\n",
       "    <tr>\n",
       "      <th>0</th>\n",
       "      <td>1</td>\n",
       "      <td>12</td>\n",
       "      <td>16</td>\n",
       "      <td>0</td>\n",
       "      <td>5</td>\n",
       "      <td>1</td>\n",
       "      <td>1</td>\n",
       "      <td>0.42</td>\n",
       "      <td>0.4242</td>\n",
       "      <td>0.47</td>\n",
       "      <td>0.1940</td>\n",
       "      <td>283</td>\n",
       "    </tr>\n",
       "    <tr>\n",
       "      <th>1</th>\n",
       "      <td>4</td>\n",
       "      <td>10</td>\n",
       "      <td>9</td>\n",
       "      <td>0</td>\n",
       "      <td>0</td>\n",
       "      <td>0</td>\n",
       "      <td>2</td>\n",
       "      <td>0.50</td>\n",
       "      <td>0.4848</td>\n",
       "      <td>0.55</td>\n",
       "      <td>0.4179</td>\n",
       "      <td>330</td>\n",
       "    </tr>\n",
       "    <tr>\n",
       "      <th>2</th>\n",
       "      <td>3</td>\n",
       "      <td>9</td>\n",
       "      <td>1</td>\n",
       "      <td>0</td>\n",
       "      <td>0</td>\n",
       "      <td>0</td>\n",
       "      <td>2</td>\n",
       "      <td>0.62</td>\n",
       "      <td>0.5606</td>\n",
       "      <td>0.88</td>\n",
       "      <td>0.0000</td>\n",
       "      <td>88</td>\n",
       "    </tr>\n",
       "    <tr>\n",
       "      <th>3</th>\n",
       "      <td>3</td>\n",
       "      <td>6</td>\n",
       "      <td>22</td>\n",
       "      <td>0</td>\n",
       "      <td>3</td>\n",
       "      <td>1</td>\n",
       "      <td>1</td>\n",
       "      <td>0.70</td>\n",
       "      <td>0.6364</td>\n",
       "      <td>0.42</td>\n",
       "      <td>0.1940</td>\n",
       "      <td>183</td>\n",
       "    </tr>\n",
       "    <tr>\n",
       "      <th>4</th>\n",
       "      <td>3</td>\n",
       "      <td>7</td>\n",
       "      <td>12</td>\n",
       "      <td>0</td>\n",
       "      <td>1</td>\n",
       "      <td>1</td>\n",
       "      <td>2</td>\n",
       "      <td>0.80</td>\n",
       "      <td>0.7424</td>\n",
       "      <td>0.52</td>\n",
       "      <td>0.1642</td>\n",
       "      <td>314</td>\n",
       "    </tr>\n",
       "  </tbody>\n",
       "</table>\n",
       "</div>"
      ],
      "text/plain": [
       "   season  mnth  hr  holiday  weekday  workingday  weathersit  temp   atemp  \\\n",
       "0       1    12  16        0        5           1           1  0.42  0.4242   \n",
       "1       4    10   9        0        0           0           2  0.50  0.4848   \n",
       "2       3     9   1        0        0           0           2  0.62  0.5606   \n",
       "3       3     6  22        0        3           1           1  0.70  0.6364   \n",
       "4       3     7  12        0        1           1           2  0.80  0.7424   \n",
       "\n",
       "    hum  windspeed  cnt  \n",
       "0  0.47     0.1940  283  \n",
       "1  0.55     0.4179  330  \n",
       "2  0.88     0.0000   88  \n",
       "3  0.42     0.1940  183  \n",
       "4  0.52     0.1642  314  "
      ]
     },
     "execution_count": 3,
     "metadata": {},
     "output_type": "execute_result"
    }
   ],
   "source": [
    "# Load the data\n",
    "Tr = pd.read_csv(\"C:/Users/jason/Desktop/UCLA/401/BikeSharing_training.csv\")\n",
    "Te = pd.read_csv(\"C:/Users/jason/Desktop/UCLA/401/BikeSharing_Xtest.csv\")\n",
    "# Show the first 5 lines\n",
    "Tr.head()"
   ]
  },
  {
   "cell_type": "markdown",
   "metadata": {},
   "source": [
    "## Data Exploration\n",
    "We can plot a histogram of the dataframe for the features: \"temp\", \"atemp\",\"hum\",\"windspeed\" to understand the distributions of the continuous values.<br/>\n"
   ]
  },
  {
   "cell_type": "code",
   "execution_count": 4,
   "metadata": {},
   "outputs": [],
   "source": [
    "### WRITE CODE TO OBTAIN AND DISPLAY HISTOGRAMS ###\n",
    "temp_hist = Tr.hist(column = \"temp\")\n",
    "atemp_hist = Tr.hist(column = \"atemp\")\n",
    "hum_hist = Tr.hist(column = \"hum\")\n",
    "windspeed_hist = Tr.hist(column = \"windspeed\")"
   ]
  },
  {
   "cell_type": "markdown",
   "metadata": {},
   "source": [
    "##### Q1. What can you infer from the histograms? <br/>\n",
    "Ans- Both hum and atemp are pretty noramlly distributed. temp has a significant number of occurance of 0.6-0.7. Windspeed is skewed very much to the right, with majority of cases happending in the 0 - 0.3 range."
   ]
  },
  {
   "cell_type": "markdown",
   "metadata": {},
   "source": [
    "Compute the correlation matrix to get an understanding of the correlation between cnt and the other features.<br/>\n",
    "\n"
   ]
  },
  {
   "cell_type": "code",
   "execution_count": 5,
   "metadata": {},
   "outputs": [
    {
     "data": {
      "text/html": [
       "<div>\n",
       "<style scoped>\n",
       "    .dataframe tbody tr th:only-of-type {\n",
       "        vertical-align: middle;\n",
       "    }\n",
       "\n",
       "    .dataframe tbody tr th {\n",
       "        vertical-align: top;\n",
       "    }\n",
       "\n",
       "    .dataframe thead th {\n",
       "        text-align: right;\n",
       "    }\n",
       "</style>\n",
       "<table border=\"1\" class=\"dataframe\">\n",
       "  <thead>\n",
       "    <tr style=\"text-align: right;\">\n",
       "      <th></th>\n",
       "      <th>season</th>\n",
       "      <th>mnth</th>\n",
       "      <th>hr</th>\n",
       "      <th>holiday</th>\n",
       "      <th>weekday</th>\n",
       "      <th>workingday</th>\n",
       "      <th>weathersit</th>\n",
       "      <th>temp</th>\n",
       "      <th>atemp</th>\n",
       "      <th>hum</th>\n",
       "      <th>windspeed</th>\n",
       "      <th>cnt</th>\n",
       "    </tr>\n",
       "  </thead>\n",
       "  <tbody>\n",
       "    <tr>\n",
       "      <th>season</th>\n",
       "      <td>1.000000</td>\n",
       "      <td>0.795990</td>\n",
       "      <td>-0.046306</td>\n",
       "      <td>-0.057180</td>\n",
       "      <td>-0.049248</td>\n",
       "      <td>0.087355</td>\n",
       "      <td>0.097812</td>\n",
       "      <td>0.403317</td>\n",
       "      <td>0.406946</td>\n",
       "      <td>0.155086</td>\n",
       "      <td>-0.110663</td>\n",
       "      <td>0.225385</td>\n",
       "    </tr>\n",
       "    <tr>\n",
       "      <th>mnth</th>\n",
       "      <td>0.795990</td>\n",
       "      <td>1.000000</td>\n",
       "      <td>0.000608</td>\n",
       "      <td>-0.012655</td>\n",
       "      <td>0.001790</td>\n",
       "      <td>0.045749</td>\n",
       "      <td>0.098688</td>\n",
       "      <td>0.270690</td>\n",
       "      <td>0.265519</td>\n",
       "      <td>0.116613</td>\n",
       "      <td>-0.005633</td>\n",
       "      <td>0.144026</td>\n",
       "    </tr>\n",
       "    <tr>\n",
       "      <th>hr</th>\n",
       "      <td>-0.046306</td>\n",
       "      <td>0.000608</td>\n",
       "      <td>1.000000</td>\n",
       "      <td>0.104970</td>\n",
       "      <td>0.029337</td>\n",
       "      <td>-0.083801</td>\n",
       "      <td>-0.117088</td>\n",
       "      <td>0.049154</td>\n",
       "      <td>0.042834</td>\n",
       "      <td>-0.375612</td>\n",
       "      <td>0.162829</td>\n",
       "      <td>0.387503</td>\n",
       "    </tr>\n",
       "    <tr>\n",
       "      <th>holiday</th>\n",
       "      <td>-0.057180</td>\n",
       "      <td>-0.012655</td>\n",
       "      <td>0.104970</td>\n",
       "      <td>1.000000</td>\n",
       "      <td>-0.065359</td>\n",
       "      <td>-0.216498</td>\n",
       "      <td>-0.059273</td>\n",
       "      <td>0.023122</td>\n",
       "      <td>0.020936</td>\n",
       "      <td>-0.064204</td>\n",
       "      <td>-0.043506</td>\n",
       "      <td>0.018659</td>\n",
       "    </tr>\n",
       "    <tr>\n",
       "      <th>weekday</th>\n",
       "      <td>-0.049248</td>\n",
       "      <td>0.001790</td>\n",
       "      <td>0.029337</td>\n",
       "      <td>-0.065359</td>\n",
       "      <td>1.000000</td>\n",
       "      <td>0.096844</td>\n",
       "      <td>-0.088959</td>\n",
       "      <td>-0.057797</td>\n",
       "      <td>-0.071621</td>\n",
       "      <td>-0.098027</td>\n",
       "      <td>0.073404</td>\n",
       "      <td>0.067401</td>\n",
       "    </tr>\n",
       "    <tr>\n",
       "      <th>workingday</th>\n",
       "      <td>0.087355</td>\n",
       "      <td>0.045749</td>\n",
       "      <td>-0.083801</td>\n",
       "      <td>-0.216498</td>\n",
       "      <td>0.096844</td>\n",
       "      <td>1.000000</td>\n",
       "      <td>0.131374</td>\n",
       "      <td>-0.007330</td>\n",
       "      <td>-0.001266</td>\n",
       "      <td>0.168470</td>\n",
       "      <td>-0.000534</td>\n",
       "      <td>-0.072353</td>\n",
       "    </tr>\n",
       "    <tr>\n",
       "      <th>weathersit</th>\n",
       "      <td>0.097812</td>\n",
       "      <td>0.098688</td>\n",
       "      <td>-0.117088</td>\n",
       "      <td>-0.059273</td>\n",
       "      <td>-0.088959</td>\n",
       "      <td>0.131374</td>\n",
       "      <td>1.000000</td>\n",
       "      <td>-0.014367</td>\n",
       "      <td>-0.018496</td>\n",
       "      <td>0.403589</td>\n",
       "      <td>-0.047412</td>\n",
       "      <td>-0.167125</td>\n",
       "    </tr>\n",
       "    <tr>\n",
       "      <th>temp</th>\n",
       "      <td>0.403317</td>\n",
       "      <td>0.270690</td>\n",
       "      <td>0.049154</td>\n",
       "      <td>0.023122</td>\n",
       "      <td>-0.057797</td>\n",
       "      <td>-0.007330</td>\n",
       "      <td>-0.014367</td>\n",
       "      <td>1.000000</td>\n",
       "      <td>0.992783</td>\n",
       "      <td>-0.037122</td>\n",
       "      <td>-0.096506</td>\n",
       "      <td>0.435036</td>\n",
       "    </tr>\n",
       "    <tr>\n",
       "      <th>atemp</th>\n",
       "      <td>0.406946</td>\n",
       "      <td>0.265519</td>\n",
       "      <td>0.042834</td>\n",
       "      <td>0.020936</td>\n",
       "      <td>-0.071621</td>\n",
       "      <td>-0.001266</td>\n",
       "      <td>-0.018496</td>\n",
       "      <td>0.992783</td>\n",
       "      <td>1.000000</td>\n",
       "      <td>-0.017675</td>\n",
       "      <td>-0.126852</td>\n",
       "      <td>0.430083</td>\n",
       "    </tr>\n",
       "    <tr>\n",
       "      <th>hum</th>\n",
       "      <td>0.155086</td>\n",
       "      <td>0.116613</td>\n",
       "      <td>-0.375612</td>\n",
       "      <td>-0.064204</td>\n",
       "      <td>-0.098027</td>\n",
       "      <td>0.168470</td>\n",
       "      <td>0.403589</td>\n",
       "      <td>-0.037122</td>\n",
       "      <td>-0.017675</td>\n",
       "      <td>1.000000</td>\n",
       "      <td>-0.228720</td>\n",
       "      <td>-0.321508</td>\n",
       "    </tr>\n",
       "    <tr>\n",
       "      <th>windspeed</th>\n",
       "      <td>-0.110663</td>\n",
       "      <td>-0.005633</td>\n",
       "      <td>0.162829</td>\n",
       "      <td>-0.043506</td>\n",
       "      <td>0.073404</td>\n",
       "      <td>-0.000534</td>\n",
       "      <td>-0.047412</td>\n",
       "      <td>-0.096506</td>\n",
       "      <td>-0.126852</td>\n",
       "      <td>-0.228720</td>\n",
       "      <td>1.000000</td>\n",
       "      <td>0.034753</td>\n",
       "    </tr>\n",
       "    <tr>\n",
       "      <th>cnt</th>\n",
       "      <td>0.225385</td>\n",
       "      <td>0.144026</td>\n",
       "      <td>0.387503</td>\n",
       "      <td>0.018659</td>\n",
       "      <td>0.067401</td>\n",
       "      <td>-0.072353</td>\n",
       "      <td>-0.167125</td>\n",
       "      <td>0.435036</td>\n",
       "      <td>0.430083</td>\n",
       "      <td>-0.321508</td>\n",
       "      <td>0.034753</td>\n",
       "      <td>1.000000</td>\n",
       "    </tr>\n",
       "  </tbody>\n",
       "</table>\n",
       "</div>"
      ],
      "text/plain": [
       "              season      mnth        hr   holiday   weekday  workingday  \\\n",
       "season      1.000000  0.795990 -0.046306 -0.057180 -0.049248    0.087355   \n",
       "mnth        0.795990  1.000000  0.000608 -0.012655  0.001790    0.045749   \n",
       "hr         -0.046306  0.000608  1.000000  0.104970  0.029337   -0.083801   \n",
       "holiday    -0.057180 -0.012655  0.104970  1.000000 -0.065359   -0.216498   \n",
       "weekday    -0.049248  0.001790  0.029337 -0.065359  1.000000    0.096844   \n",
       "workingday  0.087355  0.045749 -0.083801 -0.216498  0.096844    1.000000   \n",
       "weathersit  0.097812  0.098688 -0.117088 -0.059273 -0.088959    0.131374   \n",
       "temp        0.403317  0.270690  0.049154  0.023122 -0.057797   -0.007330   \n",
       "atemp       0.406946  0.265519  0.042834  0.020936 -0.071621   -0.001266   \n",
       "hum         0.155086  0.116613 -0.375612 -0.064204 -0.098027    0.168470   \n",
       "windspeed  -0.110663 -0.005633  0.162829 -0.043506  0.073404   -0.000534   \n",
       "cnt         0.225385  0.144026  0.387503  0.018659  0.067401   -0.072353   \n",
       "\n",
       "            weathersit      temp     atemp       hum  windspeed       cnt  \n",
       "season        0.097812  0.403317  0.406946  0.155086  -0.110663  0.225385  \n",
       "mnth          0.098688  0.270690  0.265519  0.116613  -0.005633  0.144026  \n",
       "hr           -0.117088  0.049154  0.042834 -0.375612   0.162829  0.387503  \n",
       "holiday      -0.059273  0.023122  0.020936 -0.064204  -0.043506  0.018659  \n",
       "weekday      -0.088959 -0.057797 -0.071621 -0.098027   0.073404  0.067401  \n",
       "workingday    0.131374 -0.007330 -0.001266  0.168470  -0.000534 -0.072353  \n",
       "weathersit    1.000000 -0.014367 -0.018496  0.403589  -0.047412 -0.167125  \n",
       "temp         -0.014367  1.000000  0.992783 -0.037122  -0.096506  0.435036  \n",
       "atemp        -0.018496  0.992783  1.000000 -0.017675  -0.126852  0.430083  \n",
       "hum           0.403589 -0.037122 -0.017675  1.000000  -0.228720 -0.321508  \n",
       "windspeed    -0.047412 -0.096506 -0.126852 -0.228720   1.000000  0.034753  \n",
       "cnt          -0.167125  0.435036  0.430083 -0.321508   0.034753  1.000000  "
      ]
     },
     "execution_count": 5,
     "metadata": {},
     "output_type": "execute_result"
    }
   ],
   "source": [
    "Tr.corr()"
   ]
  },
  {
   "cell_type": "markdown",
   "metadata": {},
   "source": [
    "##### Answer the following questions:<br/>\n",
    "\n",
    "##### Q2. Why is the diagonal made up of 1's in the correlation matrix?<br/>\n",
    "Ans - They are the correlation between an attribute with itself, which has to be 100% correlated.\n",
    "\n",
    "##### Q3. Why is the matrix symmetric along diagonal?<br/>\n",
    "Ans - The matrix is A compare to B on the lwft side and B compare to A on the right side of the diagonal. The correlation of A to B and B to A is the same.\n",
    "\n",
    "##### Q4. Looking at the correlation matrix, if you have to choose one predictor for a simple linear regression model with cnt as the outcome, which one would you choose and why? <br/>\n",
    "Ans - \"temp\", it has the highest absolute number of correlation, which indicates that it has the biggest impact on \"cnt\" holding all other attributes equal.\n"
   ]
  },
  {
   "cell_type": "markdown",
   "metadata": {},
   "source": [
    "### Standardization of features"
   ]
  },
  {
   "cell_type": "markdown",
   "metadata": {},
   "source": [
    "Feature standardization makes the values of each feature in the data have zero-mean and unit-variance. This method is widely used for normalization in many machine learning algorithms. The general method of calculation is to determine the distribution mean and standard deviation for each feature. Next we subtract the mean from each feature. Then we divide the values of each feature by its standard deviation.\n",
    "\n",
    "$x'$ = ($x$ - $\\bar{x}$)/$\\sigma$ \n",
    "\n",
    "where $x$ is the original feature vector,\n",
    "$\\bar{x}$ is the mean of the feature vector and\n",
    "$\\sigma$ is its standard deviation.\n",
    "\n",
    "This is also called Z-score Normalization. \n",
    "\n",
    "Perform Z-score Normalization on \"temp\", \"atemp\",\"hum\",\"windspeed\"\n"
   ]
  },
  {
   "cell_type": "code",
   "execution_count": 28,
   "metadata": {},
   "outputs": [],
   "source": [
    "from sklearn.preprocessing import StandardScaler\n",
    "scaler = StandardScaler()\n",
    "Z_temp = scaler.fit_transform(np.array(Tr['temp']).reshape(-1, 1))\n",
    "Z_atemp = scaler.fit_transform(np.array(Tr['atemp']).reshape(-1, 1))\n",
    "Z_hum = scaler.fit_transform(np.array(Tr['hum']).reshape(-1, 1))\n",
    "Z_windspeed = scaler.fit_transform(np.array(Tr['windspeed']).reshape(-1, 1))"
   ]
  },
  {
   "cell_type": "markdown",
   "metadata": {},
   "source": [
    "##### Q5. What are the advantages and disadvantages of using Z-score Normalization?<br/>\n",
    "Ans- Advantages of Z-score normalization are that it allows us to see the probability of a particular value occuring in the sample and that it allows us to compare samples of the same attribute. One disadvantage is that it assumes normal distribution even when the sample is not normally distributed.\n",
    "\n",
    "##### Q6. In this dataset, do you need to use the Z-score Normalization? Explain.<br/>\n",
    "Ans- No, because we only have one sample for an attribute and many attributes are very skewed."
   ]
  },
  {
   "cell_type": "markdown",
   "metadata": {},
   "source": [
    "### One-Hot Encoding"
   ]
  },
  {
   "cell_type": "markdown",
   "metadata": {},
   "source": [
    "\"temp\", \"atemp\",\"hum\" and \"windspeed\" are continuous values whereas the others contain discrete values. E.g. \"mnth\" can only take on the integers from 1 to 12. We need to perform one-hot encoding on discrete values for it to be processed in the model. One hot encoding is a process by which categorical variables are converted into a form that could be provided to ML algorithms to do a better job in prediction.\n",
    "\n",
    "Perform one-hot encoding on all the categorical features and print the shape of your encoded array"
   ]
  },
  {
   "cell_type": "code",
   "execution_count": 7,
   "metadata": {},
   "outputs": [
    {
     "name": "stdout",
     "output_type": "stream",
     "text": [
      "(300, 54)\n"
     ]
    }
   ],
   "source": [
    "from sklearn.preprocessing import OneHotEncoder\n",
    "categories = Tr.columns[0:7]\n",
    "label = Tr[categories]\n",
    "enc = OneHotEncoder(categories='auto')\n",
    "encoded = enc.fit_transform(label).toarray()\n",
    "\n",
    "new_columns = list()\n",
    "for col, values in zip(label.columns, enc.categories_):\n",
    "    new_columns.extend([col + '_' + str(value) for value in values])\n",
    "\n",
    "coded_Tr = Tr.drop(columns = categories)\n",
    "coded_Tr = pd.concat([pd.DataFrame(encoded, columns = new_columns), coded_Tr],axis = 'columns')\n",
    "\n",
    "coded_Tr.head(5)\n",
    "print(encoded.shape)"
   ]
  },
  {
   "cell_type": "markdown",
   "metadata": {},
   "source": [
    "##### Q7. What are the advantages and disadvantages of using One-hot encoding?<br/>\n",
    "Ans- One advantage is that the result is binary, enabling differentiation between categorical datas. The disadvantage is that the number of output can be too large."
   ]
  },
  {
   "cell_type": "markdown",
   "metadata": {},
   "source": [
    "## Multiple Linear Regression\n",
    "\n",
    "In the big data era, it is highly unlikely that we are interested in the effect of a single variable on another. To simultaneously account for the effects of multiple variables, we use multiple regression (which accounts for the covariances between predictors).\n",
    "\n",
    "While the algorithmic solution to multiple regression exists, it is easier to conceptualize in terms of linear algebra. The optimal $\\hat{\\beta}$ vector that minimizes the residual sum of squares is:\n",
    "\n",
    "$\\hat{\\beta} = (X^TX)^{-1}X^Ty $\n",
    "\n",
    "\n",
    "Perform multiple linear regression on the training dataset, where the outcome is \"cnt\"."
   ]
  },
  {
   "cell_type": "code",
   "execution_count": 8,
   "metadata": {},
   "outputs": [],
   "source": [
    "from sklearn.linear_model import LinearRegression"
   ]
  },
  {
   "cell_type": "code",
   "execution_count": 9,
   "metadata": {},
   "outputs": [],
   "source": [
    "# Bulding and fitting the Linear Regression model\n",
    "dep = coded_Tr.columns[:-1]\n",
    "x = coded_Tr[dep]\n",
    "y = coded_Tr['cnt']\n",
    "mlr = LinearRegression()\n",
    "mlr.fit(x,y)\n",
    "\n",
    "# Evaluating the Linear Regression model by computing MSE on training set\n",
    "from sklearn.metrics import mean_squared_error\n",
    "length = len(coded_Tr)\n",
    "predict = []\n",
    "true = coded_Tr['cnt'].tolist()\n",
    "for x in range(length):\n",
    "    predict.append(mlr.intercept_ + sum(coded_Tr[dep].loc[x].tolist() * mlr.coef_))\n",
    "msr = mean_squared_error(predict, true)"
   ]
  },
  {
   "cell_type": "markdown",
   "metadata": {},
   "source": [
    "###### Q8. Print the value of bhat"
   ]
  },
  {
   "cell_type": "code",
   "execution_count": 10,
   "metadata": {},
   "outputs": [
    {
     "name": "stdout",
     "output_type": "stream",
     "text": [
      "-272377202290970.0\n",
      "[ 3.48990062e+12  3.48990062e+12  3.48990062e+12  3.48990062e+12\n",
      "  1.99610274e+14  1.99610274e+14  1.99610274e+14  1.99610274e+14\n",
      "  1.99610274e+14  1.99610274e+14  1.99610274e+14  1.99610274e+14\n",
      "  1.99610274e+14  1.99610274e+14  1.99610274e+14  1.99610274e+14\n",
      "  9.98255180e+13  9.98255180e+13  9.98255180e+13  9.98255180e+13\n",
      "  9.98255180e+13  9.98255180e+13  9.98255180e+13  9.98255180e+13\n",
      "  9.98255180e+13  9.98255180e+13  9.98255180e+13  9.98255180e+13\n",
      "  9.98255180e+13  9.98255180e+13  9.98255180e+13  9.98255180e+13\n",
      "  9.98255180e+13  9.98255180e+13  9.98255180e+13  9.98255180e+13\n",
      "  9.98255180e+13  9.98255180e+13  9.98255180e+13  9.98255180e+13\n",
      "  2.35193390e+15 -2.10203358e+15 -3.76505954e+15  6.88907930e+14\n",
      "  6.88907930e+14  6.88907930e+14  6.88907930e+14  6.88907930e+14\n",
      " -3.76505954e+15  2.46128273e+15 -1.99268474e+15 -1.07870557e+15\n",
      " -1.07870557e+15 -1.07870557e+15  8.19843750e+02 -5.16750000e+02\n",
      " -4.98730469e+01 -1.05077148e+02]\n",
      "11287.805126953124\n"
     ]
    }
   ],
   "source": [
    "print(mlr.intercept_)\n",
    "print(mlr.coef_)\n",
    "print(msr)"
   ]
  },
  {
   "cell_type": "markdown",
   "metadata": {},
   "source": [
    "###### Q9. Is there a problem of multicolinearity? Explain what you can do<br/>\n",
    "Ans- msr gets so big I do not know why."
   ]
  },
  {
   "cell_type": "markdown",
   "metadata": {},
   "source": [
    "### Goodness of fit\n",
    "\n",
    "A model can always make predictions. But it is important to determine how good the model is.\n",
    "How do we know that our model captures the data well? When evaluating model fit, a good metric is $R^2$, which corresponds to the amount of variance explained by the model. The formula for $R^2$ is the following:\n",
    "\n",
    "$R^2$ = $1 - \\dfrac{RSS}{TSS}$<br/>\n",
    "where:<br/>\n",
    "$RSS = \\Sigma(y - \\hat{y})^2$<br/>\n",
    "$TSS = \\Sigma(y - \\bar{y})^2$<br/>\n",
    "\n",
    "$R^2$ is also one metric for comparing models against each other. It is intuitive to say that the model that explains more variation in the data is a better fit than one that explains less variation. \n",
    "\n",
    "Fill in the code for calculation of R2 score "
   ]
  },
  {
   "cell_type": "code",
   "execution_count": 11,
   "metadata": {},
   "outputs": [],
   "source": [
    "from sklearn.metrics import r2_score"
   ]
  },
  {
   "cell_type": "markdown",
   "metadata": {},
   "source": [
    "#### R2 score for model with \"temp\" as predictor and \"cnt\" as outcome"
   ]
  },
  {
   "cell_type": "code",
   "execution_count": 12,
   "metadata": {},
   "outputs": [
    {
     "name": "stdout",
     "output_type": "stream",
     "text": [
      "0.18925663564676132\n"
     ]
    }
   ],
   "source": [
    "x_temp = np.array(coded_Tr['temp']).reshape(-1, 1)\n",
    "lr_temp = LinearRegression().fit(x_temp, y)\n",
    "\n",
    "predict_with_temp = []\n",
    "for x in range(length):\n",
    "    predict_with_temp.append(lr_temp.intercept_ + coded_Tr['temp'].loc[x] * lr_temp.coef_)\n",
    "# Print R2 score\n",
    "r2_temp = r2_score(true, predict_with_temp)\n",
    "print(r2_temp)"
   ]
  },
  {
   "cell_type": "markdown",
   "metadata": {},
   "source": [
    "#### R2 score for model with \"temp\", \"hum\" as predictors and \"cnt\" as outcome"
   ]
  },
  {
   "cell_type": "code",
   "execution_count": 13,
   "metadata": {},
   "outputs": [
    {
     "name": "stdout",
     "output_type": "stream",
     "text": [
      "0.2826295103178843\n"
     ]
    }
   ],
   "source": [
    "x_temp_hum = coded_Tr[['temp', 'hum']]\n",
    "lr_temp_hum = LinearRegression().fit(x_temp_hum, y)\n",
    "\n",
    "pred_temp_hum = []\n",
    "for x in range(length):\n",
    "    pred_temp_hum.append(lr_temp_hum.intercept_ + sum(x_temp_hum.loc[x].tolist() * lr_temp_hum.coef_))\n",
    "# Print R2 score\n",
    "r2_temp_hum = r2_score(true, pred_temp_hum)\n",
    "print(r2_temp_hum)"
   ]
  },
  {
   "cell_type": "markdown",
   "metadata": {},
   "source": [
    "#### R2 score for model with  \"temp\", \"atemp\", \"hum\" as predictors and \"cnt\" as outcome"
   ]
  },
  {
   "cell_type": "code",
   "execution_count": 14,
   "metadata": {},
   "outputs": [
    {
     "name": "stdout",
     "output_type": "stream",
     "text": [
      "0.28380026219213783\n"
     ]
    }
   ],
   "source": [
    "x_temp_hum_atemp = coded_Tr[['temp', 'hum','atemp']]\n",
    "lr_temp_hum_atemp = LinearRegression().fit(x_temp_hum_atemp, y)\n",
    "\n",
    "pred_temp_hum_atemp = []\n",
    "for x in range(length):\n",
    "    pred_temp_hum_atemp.append(lr_temp_hum_atemp.intercept_ + sum(x_temp_hum_atemp.loc[x].tolist() * lr_temp_hum_atemp.coef_))\n",
    "# Print R2 score\n",
    "r2_temp_hum_atemp = r2_score(true, pred_temp_hum_atemp)\n",
    "print(r2_temp_hum_atemp)"
   ]
  },
  {
   "cell_type": "markdown",
   "metadata": {},
   "source": [
    "You can see $R^2$ is always going up as we keep adding features.\n",
    "\n",
    "This is one drawback of only using $R^2$ to evaluate your model. Adding predictors will always improve the predictive ability of your model, though it may not be meaningful.\n",
    "\n",
    "That is to say, we are not necessarily interested in making a perfect prediciton of our data. If we were, we would always use all of the predictors available. Rather, we are interested in the most predictive features, in the hopes that we can create a simpler model that performs nearly as well.\n",
    "\n",
    "This is why we consider another metric, Adjusted R2.\n",
    "The adjusted R-squared increases only if the new term improves the model more than would be expected by chance.\n",
    "Using Adjusted R2 score, please give the most relevant combination of predictors in determining the profit of the startup.\n",
    "\n",
    "\n",
    "$AdjustedR^2$ = $1 - \\dfrac{(1-R^2)(n-1)}{(n-k-1)}$<br/>\n",
    "where:<br/>\n",
    "n = number of samples<br/>\n",
    "k = number of features\n",
    "\n",
    "Fill in the code for calculation of adjusted R2 score"
   ]
  },
  {
   "cell_type": "markdown",
   "metadata": {},
   "source": [
    "#### Adjusted R2 score for model with \"temp\" as predictor and \"cnt\" as outcome"
   ]
  },
  {
   "cell_type": "code",
   "execution_count": 15,
   "metadata": {},
   "outputs": [
    {
     "name": "stdout",
     "output_type": "stream",
     "text": [
      "0.18653602033013972\n"
     ]
    }
   ],
   "source": [
    "ar2_temp = 1 - (1 - r2_temp) * (length - 1) / (length - 1 - 1)\n",
    "\n",
    "# Print Adjusted R2 score\n",
    "print(ar2_temp)"
   ]
  },
  {
   "cell_type": "markdown",
   "metadata": {},
   "source": [
    "#### Adjusted R2 score for model with \"temp\", \"hum\" as predictors and \"cnt\" as outcome"
   ]
  },
  {
   "cell_type": "code",
   "execution_count": 16,
   "metadata": {},
   "outputs": [
    {
     "name": "stdout",
     "output_type": "stream",
     "text": [
      "0.2777987326095872\n"
     ]
    }
   ],
   "source": [
    "ar2_temp_hum = 1 - (1 - r2_temp_hum) * (length - 1) / (length - 2 - 1)\n",
    "\n",
    "# Print Adjusted R2 score\n",
    "print(ar2_temp_hum)"
   ]
  },
  {
   "cell_type": "markdown",
   "metadata": {},
   "source": [
    "#### Adjusted R2 score for model with  \"temp\", \"atemp\", \"hum\" as predictors and \"cnt\" as outcome"
   ]
  },
  {
   "cell_type": "code",
   "execution_count": 17,
   "metadata": {},
   "outputs": [
    {
     "name": "stdout",
     "output_type": "stream",
     "text": [
      "0.27654148106570675\n"
     ]
    }
   ],
   "source": [
    "ar2_temp_hum_atemp = 1 - (1 - r2_temp_hum_atemp) * (length - 1) / (length - 3 - 1)\n",
    "\n",
    "# Print Adjusted R2 score\n",
    "print(ar2_temp_hum_atemp)"
   ]
  },
  {
   "cell_type": "markdown",
   "metadata": {},
   "source": [
    "### K-fold Cross-Validation\n",
    "\n",
    "However, adjusted R2 is not enough to help us ahieve the best model, a more robust method is k-fold cross-validation.\n",
    "\n",
    "* Randomly split dataset into K equal-sized subsets, or folds\n",
    "* Treat each fold as validation set (train on all but K'th fold and test on K'th fold only)\n",
    "\n",
    "* The overall error is then the mean error over all K models.\n",
    "* Most common are 5- or 10-fold cross-validation\n",
    "\n",
    "Please implement a 5-fold cross-validation by yourselves to find the best model in terms of Mean Square Error(MSE)\n",
    "\n",
    "**Do not use sklearn.model_selection.cross_val_score or other built-in cross-validaiton functions**"
   ]
  },
  {
   "cell_type": "code",
   "execution_count": 18,
   "metadata": {},
   "outputs": [],
   "source": [
    "# Design a function to implement 5-fold cross-validation. \n",
    "# The input: training features X, training target y.\n",
    "# The output: the average of MSE over the 5 folds.\n",
    "\n",
    "def cross_val_mse(X, y):\n",
    "    # Write your code here\n",
    "    msr = []\n",
    "    for i in range(5):\n",
    "        x_test = X.iloc[int(i * 300 / 5) : int((i + 1) * 300 / 5),:]\n",
    "        x_train = X.drop(X.index[int(i * 300 / 5) : int((i + 1) * 300 / 5)])\n",
    "        \n",
    "        y_test = y.iloc[int(i * 300 / 5) : int((i + 1) * 300 / 5),:]\n",
    "        y_train = y.drop(y.index[int(i * 300 / 5) : int((i + 1) * 300 / 5)])\n",
    "        \n",
    "        reg = LinearRegression().fit(x_train, y_train)\n",
    "        predict = reg.predict(x_test)\n",
    "        \n",
    "        msr.append(mean_squared_error(y_test, predict))\n",
    "    \n",
    "    return sum(msr) / len(msr)\n",
    "\n",
    "# By using your above function, find the best combination of features, which has the lowest averaged MSE\n",
    "\n",
    "from itertools import combinations\n",
    "\n",
    "cols = [i for i in Tr.columns if i != 'cnt']\n",
    "\n",
    "all_comb = []\n",
    "for i in range(len(cols)):\n",
    "    all_comb += list(combinations(cols, i))\n",
    "\n",
    "all_msr = []\n",
    "for n, i in enumerate(range(1, len(all_comb)), 0):\n",
    "    all_msr.append([cross_val_mse(Tr[list(all_comb[i])], Tr[['cnt']]), n])\n",
    "\n",
    "best_comb = all_comb[min(all_msr)[1]]"
   ]
  },
  {
   "cell_type": "code",
   "execution_count": 19,
   "metadata": {},
   "outputs": [
    {
     "name": "stdout",
     "output_type": "stream",
     "text": [
      "('season', 'mnth', 'hr', 'weekday', 'weathersit', 'temp', 'windspeed')\n"
     ]
    }
   ],
   "source": [
    "# Print the best features \n",
    "print(best_comb)"
   ]
  },
  {
   "cell_type": "code",
   "execution_count": 26,
   "metadata": {},
   "outputs": [
    {
     "data": {
      "text/html": [
       "<div>\n",
       "<style scoped>\n",
       "    .dataframe tbody tr th:only-of-type {\n",
       "        vertical-align: middle;\n",
       "    }\n",
       "\n",
       "    .dataframe tbody tr th {\n",
       "        vertical-align: top;\n",
       "    }\n",
       "\n",
       "    .dataframe thead th {\n",
       "        text-align: right;\n",
       "    }\n",
       "</style>\n",
       "<table border=\"1\" class=\"dataframe\">\n",
       "  <thead>\n",
       "    <tr style=\"text-align: right;\">\n",
       "      <th></th>\n",
       "      <th>season</th>\n",
       "      <th>mnth</th>\n",
       "      <th>hr</th>\n",
       "      <th>holiday</th>\n",
       "      <th>weekday</th>\n",
       "      <th>workingday</th>\n",
       "      <th>weathersit</th>\n",
       "      <th>temp</th>\n",
       "      <th>atemp</th>\n",
       "      <th>hum</th>\n",
       "      <th>windspeed</th>\n",
       "    </tr>\n",
       "  </thead>\n",
       "  <tbody>\n",
       "    <tr>\n",
       "      <th>0</th>\n",
       "      <td>4</td>\n",
       "      <td>11</td>\n",
       "      <td>11</td>\n",
       "      <td>1</td>\n",
       "      <td>4</td>\n",
       "      <td>0</td>\n",
       "      <td>1</td>\n",
       "      <td>0.42</td>\n",
       "      <td>0.4242</td>\n",
       "      <td>0.41</td>\n",
       "      <td>0.0896</td>\n",
       "    </tr>\n",
       "    <tr>\n",
       "      <th>1</th>\n",
       "      <td>1</td>\n",
       "      <td>12</td>\n",
       "      <td>13</td>\n",
       "      <td>0</td>\n",
       "      <td>5</td>\n",
       "      <td>1</td>\n",
       "      <td>2</td>\n",
       "      <td>0.30</td>\n",
       "      <td>0.3030</td>\n",
       "      <td>0.49</td>\n",
       "      <td>0.1343</td>\n",
       "    </tr>\n",
       "    <tr>\n",
       "      <th>2</th>\n",
       "      <td>4</td>\n",
       "      <td>11</td>\n",
       "      <td>18</td>\n",
       "      <td>0</td>\n",
       "      <td>3</td>\n",
       "      <td>1</td>\n",
       "      <td>1</td>\n",
       "      <td>0.44</td>\n",
       "      <td>0.4394</td>\n",
       "      <td>0.67</td>\n",
       "      <td>0.1045</td>\n",
       "    </tr>\n",
       "    <tr>\n",
       "      <th>3</th>\n",
       "      <td>4</td>\n",
       "      <td>10</td>\n",
       "      <td>16</td>\n",
       "      <td>0</td>\n",
       "      <td>4</td>\n",
       "      <td>1</td>\n",
       "      <td>1</td>\n",
       "      <td>0.70</td>\n",
       "      <td>0.6515</td>\n",
       "      <td>0.54</td>\n",
       "      <td>0.2836</td>\n",
       "    </tr>\n",
       "    <tr>\n",
       "      <th>4</th>\n",
       "      <td>4</td>\n",
       "      <td>12</td>\n",
       "      <td>17</td>\n",
       "      <td>0</td>\n",
       "      <td>0</td>\n",
       "      <td>0</td>\n",
       "      <td>1</td>\n",
       "      <td>0.28</td>\n",
       "      <td>0.3182</td>\n",
       "      <td>0.30</td>\n",
       "      <td>0.0000</td>\n",
       "    </tr>\n",
       "  </tbody>\n",
       "</table>\n",
       "</div>"
      ],
      "text/plain": [
       "   season  mnth  hr  holiday  weekday  workingday  weathersit  temp   atemp  \\\n",
       "0       4    11  11        1        4           0           1  0.42  0.4242   \n",
       "1       1    12  13        0        5           1           2  0.30  0.3030   \n",
       "2       4    11  18        0        3           1           1  0.44  0.4394   \n",
       "3       4    10  16        0        4           1           1  0.70  0.6515   \n",
       "4       4    12  17        0        0           0           1  0.28  0.3182   \n",
       "\n",
       "    hum  windspeed  \n",
       "0  0.41     0.0896  \n",
       "1  0.49     0.1343  \n",
       "2  0.67     0.1045  \n",
       "3  0.54     0.2836  \n",
       "4  0.30     0.0000  "
      ]
     },
     "execution_count": 26,
     "metadata": {},
     "output_type": "execute_result"
    }
   ],
   "source": [
    "Te.head()"
   ]
  },
  {
   "cell_type": "code",
   "execution_count": 25,
   "metadata": {},
   "outputs": [
    {
     "data": {
      "text/html": [
       "<div>\n",
       "<style scoped>\n",
       "    .dataframe tbody tr th:only-of-type {\n",
       "        vertical-align: middle;\n",
       "    }\n",
       "\n",
       "    .dataframe tbody tr th {\n",
       "        vertical-align: top;\n",
       "    }\n",
       "\n",
       "    .dataframe thead th {\n",
       "        text-align: right;\n",
       "    }\n",
       "</style>\n",
       "<table border=\"1\" class=\"dataframe\">\n",
       "  <thead>\n",
       "    <tr style=\"text-align: right;\">\n",
       "      <th></th>\n",
       "      <th>season</th>\n",
       "      <th>mnth</th>\n",
       "      <th>hr</th>\n",
       "      <th>holiday</th>\n",
       "      <th>weekday</th>\n",
       "      <th>workingday</th>\n",
       "      <th>weathersit</th>\n",
       "      <th>temp</th>\n",
       "      <th>atemp</th>\n",
       "      <th>hum</th>\n",
       "      <th>windspeed</th>\n",
       "      <th>cnt</th>\n",
       "    </tr>\n",
       "  </thead>\n",
       "  <tbody>\n",
       "    <tr>\n",
       "      <th>0</th>\n",
       "      <td>1</td>\n",
       "      <td>12</td>\n",
       "      <td>16</td>\n",
       "      <td>0</td>\n",
       "      <td>5</td>\n",
       "      <td>1</td>\n",
       "      <td>1</td>\n",
       "      <td>0.42</td>\n",
       "      <td>0.4242</td>\n",
       "      <td>0.47</td>\n",
       "      <td>0.1940</td>\n",
       "      <td>283</td>\n",
       "    </tr>\n",
       "    <tr>\n",
       "      <th>1</th>\n",
       "      <td>4</td>\n",
       "      <td>10</td>\n",
       "      <td>9</td>\n",
       "      <td>0</td>\n",
       "      <td>0</td>\n",
       "      <td>0</td>\n",
       "      <td>2</td>\n",
       "      <td>0.50</td>\n",
       "      <td>0.4848</td>\n",
       "      <td>0.55</td>\n",
       "      <td>0.4179</td>\n",
       "      <td>330</td>\n",
       "    </tr>\n",
       "    <tr>\n",
       "      <th>2</th>\n",
       "      <td>3</td>\n",
       "      <td>9</td>\n",
       "      <td>1</td>\n",
       "      <td>0</td>\n",
       "      <td>0</td>\n",
       "      <td>0</td>\n",
       "      <td>2</td>\n",
       "      <td>0.62</td>\n",
       "      <td>0.5606</td>\n",
       "      <td>0.88</td>\n",
       "      <td>0.0000</td>\n",
       "      <td>88</td>\n",
       "    </tr>\n",
       "    <tr>\n",
       "      <th>3</th>\n",
       "      <td>3</td>\n",
       "      <td>6</td>\n",
       "      <td>22</td>\n",
       "      <td>0</td>\n",
       "      <td>3</td>\n",
       "      <td>1</td>\n",
       "      <td>1</td>\n",
       "      <td>0.70</td>\n",
       "      <td>0.6364</td>\n",
       "      <td>0.42</td>\n",
       "      <td>0.1940</td>\n",
       "      <td>183</td>\n",
       "    </tr>\n",
       "    <tr>\n",
       "      <th>4</th>\n",
       "      <td>3</td>\n",
       "      <td>7</td>\n",
       "      <td>12</td>\n",
       "      <td>0</td>\n",
       "      <td>1</td>\n",
       "      <td>1</td>\n",
       "      <td>2</td>\n",
       "      <td>0.80</td>\n",
       "      <td>0.7424</td>\n",
       "      <td>0.52</td>\n",
       "      <td>0.1642</td>\n",
       "      <td>314</td>\n",
       "    </tr>\n",
       "  </tbody>\n",
       "</table>\n",
       "</div>"
      ],
      "text/plain": [
       "   season  mnth  hr  holiday  weekday  workingday  weathersit  temp   atemp  \\\n",
       "0       1    12  16        0        5           1           1  0.42  0.4242   \n",
       "1       4    10   9        0        0           0           2  0.50  0.4848   \n",
       "2       3     9   1        0        0           0           2  0.62  0.5606   \n",
       "3       3     6  22        0        3           1           1  0.70  0.6364   \n",
       "4       3     7  12        0        1           1           2  0.80  0.7424   \n",
       "\n",
       "    hum  windspeed  cnt  \n",
       "0  0.47     0.1940  283  \n",
       "1  0.55     0.4179  330  \n",
       "2  0.88     0.0000   88  \n",
       "3  0.42     0.1940  183  \n",
       "4  0.52     0.1642  314  "
      ]
     },
     "execution_count": 25,
     "metadata": {},
     "output_type": "execute_result"
    }
   ],
   "source": [
    "Tr.head()"
   ]
  },
  {
   "cell_type": "markdown",
   "metadata": {},
   "source": [
    "### Test your model\n",
    "Now, apply your best model to predict the target values from the test feature set \"BikeSharing_Xtest.csv\". We will grade this part based on your prediction error.\n",
    "\n",
    "Hint: Please be careful on standardization and one-hot encoding (if you use), the test set should be consistent with the training set in terms of any transformation.\n",
    "\n",
    "Hint2: You may want to modify the previous steps to make the transformation of the test set consistent with the training set."
   ]
  },
  {
   "cell_type": "code",
   "execution_count": 21,
   "metadata": {},
   "outputs": [],
   "source": [
    "length = len(Te)\n",
    "predict_Te = []\n",
    "x = Tr[list(best_comb)]\n",
    "y = Tr['cnt']\n",
    "final_mlr = LinearRegression().fit(x,y)\n",
    "\n",
    "for x in range(length):\n",
    "    predict_Te.append(final_mlr.intercept_ + sum(Te[list(best_comb)].loc[x].tolist() * final_mlr.coef_))\n",
    "\n",
    "# Output your prediction on test set as y_pred. It should be a 200 x 1 vector.\n",
    "y_pred = predict_Te"
   ]
  },
  {
   "cell_type": "code",
   "execution_count": 22,
   "metadata": {},
   "outputs": [
    {
     "data": {
      "text/plain": [
       "[204.70272946889457,\n",
       " 57.35363738817861,\n",
       " 275.13968557827314,\n",
       " 366.3643361375511,\n",
       " 178.16084574278267]"
      ]
     },
     "execution_count": 22,
     "metadata": {},
     "output_type": "execute_result"
    }
   ],
   "source": [
    "y_pred[:5]"
   ]
  },
  {
   "cell_type": "code",
   "execution_count": 23,
   "metadata": {},
   "outputs": [],
   "source": [
    "#end"
   ]
  }
 ],
 "metadata": {
  "kernelspec": {
   "display_name": "Python 3",
   "language": "python",
   "name": "python3"
  },
  "language_info": {
   "codemirror_mode": {
    "name": "ipython",
    "version": 3
   },
   "file_extension": ".py",
   "mimetype": "text/x-python",
   "name": "python",
   "nbconvert_exporter": "python",
   "pygments_lexer": "ipython3",
   "version": "3.7.3"
  }
 },
 "nbformat": 4,
 "nbformat_minor": 4
}
