{
 "cells": [
  {
   "cell_type": "markdown",
   "metadata": {},
   "source": [
    "## MGMTMSA 403 Homework 2: Portfolio Optimization\n"
   ]
  },
  {
   "cell_type": "markdown",
   "metadata": {},
   "source": [
    "## Pre-processing step: Estimate expected returns and covariance"
   ]
  },
  {
   "cell_type": "code",
   "execution_count": 2,
   "metadata": {},
   "outputs": [],
   "source": [
    "# Import gurobi and numpy\n",
    "from gurobipy import *\n",
    "import numpy as np\n",
    "from numpy import genfromtxt\n",
    "import csv\n",
    "\n",
    "## Get index of 4 tickers\n",
    "tick4 = [\"MSFT\",\"GS\",\"PG\",\"SCHP\"];\n",
    "\n",
    "# Get variable names\n",
    "with open('Prices.csv') as csvFile:\n",
    "    reader = csv.reader(csvFile)\n",
    "    tickers = next(reader) ## stores the tickets of all 390 stocks\n",
    "\n",
    "tickind =[];\n",
    "for t in tick4:\n",
    "    tickind.append(tickers.index(t)) ## collect index that corresponds to each ticker\n",
    "\n",
    "# Load data\n",
    "prices = genfromtxt('Prices.csv', delimiter=',',skip_header = 1)\n",
    "\n",
    "# get dimensions of data\n",
    "d = prices.shape[0]\n",
    "n = prices.shape[1]\n",
    "\n",
    "# calculate monthly returns of each stock\n",
    "returns = np.zeros((d-1,n))\n",
    "for stock in range(n):\n",
    "    for month in range(d-1):\n",
    "        returns[month,stock] = prices[month+1,stock]/prices[month,stock]-1\n",
    "        \n",
    "# Store average return (parameter r_i in portfolio optimization model)       \n",
    "avg_return = np.zeros(n)\n",
    "avg_return = np.mean(returns,axis=0)\n",
    "\n",
    "# Store covariance matrix (parameter C_ij in portfolio optimization model)\n",
    "C = np.zeros((n,n))\n",
    "C = np.cov(np.transpose(returns))\n"
   ]
  },
  {
   "cell_type": "code",
   "execution_count": 27,
   "metadata": {},
   "outputs": [
    {
     "name": "stdout",
     "output_type": "stream",
     "text": [
      "Gurobi Optimizer version 9.1.0 build v9.1.0rc0 (win64)\n",
      "Thread count: 4 physical cores, 8 logical processors, using up to 8 threads\n",
      "Optimize a model with 6 rows, 4 columns and 12 nonzeros\n",
      "Model fingerprint: 0x90a27fa8\n",
      "Model has 10 quadratic objective terms\n",
      "Coefficient statistics:\n",
      "  Matrix range     [2e-04, 1e+00]\n",
      "  Objective range  [0e+00, 0e+00]\n",
      "  QObjective range [5e-05, 7e-03]\n",
      "  Bounds range     [0e+00, 0e+00]\n",
      "  RHS range        [5e-03, 1e+00]\n",
      "Presolve removed 4 rows and 0 columns\n",
      "Presolve time: 0.01s\n",
      "Presolved: 2 rows, 4 columns, 8 nonzeros\n",
      "Presolved model has 10 quadratic objective terms\n",
      "Ordering time: 0.00s\n",
      "\n",
      "Barrier statistics:\n",
      " Free vars  : 3\n",
      " AA' NZ     : 1.000e+01\n",
      " Factor NZ  : 1.500e+01\n",
      " Factor Ops : 5.500e+01 (less than 1 second per iteration)\n",
      " Threads    : 1\n",
      "\n",
      "                  Objective                Residual\n",
      "Iter       Primal          Dual         Primal    Dual     Compl     Time\n",
      "   0   1.87864836e+05 -1.87864836e+05  3.50e+03 1.91e-07  1.00e+06     0s\n",
      "   1   5.03195868e+03 -5.16248579e+03  2.59e+02 1.41e-08  7.60e+04     0s\n",
      "   2   8.65509708e-03 -1.63980611e+02  5.37e-01 2.93e-11  1.91e+02     0s\n",
      "   3   9.86310203e-04 -1.11685777e+02  5.37e-07 2.97e-17  2.23e+01     0s\n",
      "   4   9.86278716e-04 -1.12363063e-01  8.01e-12 8.67e-19  2.27e-02     0s\n",
      "   5   9.62254421e-04 -7.39765491e-04  8.50e-14 0.00e+00  3.40e-04     0s\n",
      "   6   2.39090553e-04 -5.58090861e-04  1.39e-17 1.73e-18  1.59e-04     0s\n",
      "   7   1.89326156e-04  1.66699694e-04  1.08e-19 1.30e-18  4.53e-06     0s\n",
      "   8   1.77828223e-04  1.76221352e-04  9.71e-17 1.73e-18  3.21e-07     0s\n",
      "   9   1.77494541e-04  1.77442512e-04  6.66e-16 1.73e-18  1.04e-08     0s\n",
      "  10   1.77493265e-04  1.77493214e-04  3.66e-15 1.73e-18  1.03e-11     0s\n",
      "\n",
      "Barrier solved model in 10 iterations and 0.03 seconds\n",
      "Optimal objective 1.77493265e-04\n",
      "\n"
     ]
    }
   ],
   "source": [
    "#Model 1\n",
    "mod1 = Model()\n",
    "\n",
    "#returns of the four stocks\n",
    "r = [avg_return[x] for x in tickind]\n",
    "s = mod1.addVars(4)\n",
    "\n",
    "#get covaraiance for the relavent stocks\n",
    "cov1 = np.zeros((4,4))\n",
    "for x in range(4):\n",
    "    for y in range(4):\n",
    "        cov1[x][y] = C[tickind[x]][tickind[y]]\n",
    "\n",
    "#Constriants\n",
    "Int1_con = mod1.addConstr(sum(s[x] for x in range(4)) == 1)\n",
    "return_con = mod1.addConstr(sum(s[x] * r[x] for x in range(4)) >= 0.005)\n",
    "#Non Neg con\n",
    "for x in range(4):\n",
    "    mod1.addConstr(s[x] >= 0)\n",
    "\n",
    "#Objective\n",
    "mod1.setObjective(sum(sum(s[x] * s[y] * cov1[x][y] for x in range(4)) for y in range(4)), GRB.MINIMIZE)\n",
    "mod1.update()\n",
    "mod1.optimize()"
   ]
  },
  {
   "cell_type": "code",
   "execution_count": 28,
   "metadata": {},
   "outputs": [
    {
     "data": {
      "text/plain": [
       "0.00017749326516582024"
      ]
     },
     "execution_count": 28,
     "metadata": {},
     "output_type": "execute_result"
    }
   ],
   "source": [
    "mod1.objVal"
   ]
  },
  {
   "cell_type": "code",
   "execution_count": 5,
   "metadata": {},
   "outputs": [
    {
     "name": "stdout",
     "output_type": "stream",
     "text": [
      "Gurobi Optimizer version 9.1.0 build v9.1.0rc0 (win64)\n",
      "Thread count: 4 physical cores, 8 logical processors, using up to 8 threads\n",
      "Optimize a model with 392 rows, 390 columns and 1170 nonzeros\n",
      "Model fingerprint: 0x004b4e8a\n",
      "Model has 76245 quadratic objective terms\n",
      "Coefficient statistics:\n",
      "  Matrix range     [1e-06, 1e+00]\n",
      "  Objective range  [0e+00, 0e+00]\n",
      "  QObjective range [2e-07, 8e-02]\n",
      "  Bounds range     [0e+00, 0e+00]\n",
      "  RHS range        [5e-03, 1e+00]\n",
      "Presolve removed 390 rows and 0 columns\n",
      "Presolve time: 0.06s\n",
      "Presolved: 2 rows, 390 columns, 780 nonzeros\n",
      "Presolved model has 76245 quadratic objective terms\n",
      "Ordering time: 0.00s\n",
      "\n",
      "Barrier statistics:\n",
      " Free vars  : 59\n",
      " AA' NZ     : 1.830e+03\n",
      " Factor NZ  : 1.891e+03\n",
      " Factor Ops : 7.753e+04 (less than 1 second per iteration)\n",
      " Threads    : 4\n",
      "\n",
      "                  Objective                Residual\n",
      "Iter       Primal          Dual         Primal    Dual     Compl     Time\n",
      "   0   2.89821559e-13 -2.89821559e-13  3.90e+05 3.22e-07  1.00e+06     0s\n",
      "   1   2.43039969e+03 -3.41875696e+03  1.04e+04 8.59e-09  2.67e+04     0s\n",
      "   2   3.54479277e-03 -1.01970099e+03  9.49e+00 7.84e-12  2.70e+01     0s\n",
      "   3   9.56987699e-04 -8.30932860e+02  9.49e-06 1.04e-17  2.13e+00     0s\n",
      "   4   9.56984024e-04 -8.32258791e-01  2.62e-11 9.73e-13  2.13e-03     0s\n",
      "   5   9.54080582e-04 -2.12856913e-03  6.84e-14 2.62e-15  7.88e-06     0s\n",
      "   6   5.35418588e-04 -5.84990492e-04  5.55e-15 2.44e-16  2.87e-06     0s\n",
      "   7   2.01507881e-04 -3.89216325e-04  4.00e-15 1.30e-18  1.51e-06     0s\n",
      "   8   1.34606944e-04 -1.49691131e-04  2.22e-16 8.67e-19  7.27e-07     0s\n",
      "   9   7.89595224e-05 -1.75108231e-05  1.11e-15 4.34e-19  2.47e-07     0s\n",
      "  10   5.10158056e-05  1.43645079e-05  2.22e-16 4.34e-19  9.37e-08     0s\n",
      "  11   3.92512246e-05  2.40840857e-05  2.22e-16 4.34e-19  3.88e-08     0s\n",
      "  12   3.31521270e-05  2.75338355e-05  2.22e-16 4.34e-19  1.44e-08     0s\n",
      "  13   2.98855042e-05  2.86283978e-05  8.88e-16 4.34e-19  3.22e-09     0s\n",
      "  14   2.88057421e-05  2.87835444e-05  1.02e-14 4.34e-19  5.68e-11     0s\n",
      "  15   2.87857564e-05  2.87849288e-05  3.42e-14 1.63e-19  2.12e-12     0s\n",
      "\n",
      "Barrier solved model in 15 iterations and 0.15 seconds\n",
      "Optimal objective 2.87857564e-05\n",
      "\n"
     ]
    }
   ],
   "source": [
    "#Model 2\n",
    "mod2 = Model()\n",
    "\n",
    "#returns of the four stocks\n",
    "s = mod2.addVars(len(avg_return))\n",
    "\n",
    "#get covaraiance for the relavent stocks\n",
    "cov2 = np.zeros((len(avg_return),len(avg_return)))\n",
    "for x in range(len(avg_return)):\n",
    "    for y in range(len(avg_return)):\n",
    "        cov2[x][y] = C[x][y]\n",
    "\n",
    "#Constriants\n",
    "Int1_con = mod2.addConstr(sum(s[x] for x in range(len(avg_return))) == 1)\n",
    "return_con = mod2.addConstr(sum(s[x] * avg_return[x] for x in range(len(avg_return))) >= 0.005)\n",
    "#Non Neg con\n",
    "for x in range(len(avg_return)):\n",
    "    mod2.addConstr(s[x] >= 0)\n",
    "\n",
    "#Objective\n",
    "mod2.setObjective(sum(sum(s[x] * s[y] * cov2[x][y] for x in range(len(avg_return))) for y in range(len(avg_return))), GRB.MINIMIZE)\n",
    "mod2.update()\n",
    "mod2.optimize()"
   ]
  },
  {
   "cell_type": "code",
   "execution_count": 6,
   "metadata": {},
   "outputs": [
    {
     "data": {
      "text/plain": [
       "2.8785756399295937e-05"
      ]
     },
     "execution_count": 6,
     "metadata": {},
     "output_type": "execute_result"
    }
   ],
   "source": [
    "mod2.objVal"
   ]
  },
  {
   "cell_type": "code",
   "execution_count": 48,
   "metadata": {},
   "outputs": [
    {
     "name": "stdout",
     "output_type": "stream",
     "text": [
      "Changed value of parameter MIPGap to 0.1\n",
      "   Prev: 0.0001  Min: 0.0  Max: inf  Default: 0.0001\n",
      "Gurobi Optimizer version 9.1.0 build v9.1.0rc0 (win64)\n",
      "Thread count: 4 physical cores, 8 logical processors, using up to 8 threads\n",
      "Optimize a model with 393 rows, 780 columns and 1560 nonzeros\n",
      "Model fingerprint: 0x05bed5c5\n",
      "Model has 76245 quadratic objective terms\n",
      "Model has 390 quadratic constraints\n",
      "Variable types: 390 continuous, 390 integer (390 binary)\n",
      "Coefficient statistics:\n",
      "  Matrix range     [1e-06, 1e+00]\n",
      "  QMatrix range    [1e+00, 1e+00]\n",
      "  QLMatrix range   [1e+00, 1e+00]\n",
      "  Objective range  [0e+00, 0e+00]\n",
      "  QObjective range [2e-07, 8e-02]\n",
      "  Bounds range     [1e+00, 1e+00]\n",
      "  RHS range        [5e-03, 4e+00]\n",
      "Presolve time: 0.01s\n",
      "Presolved: 393 rows, 780 columns, 1950 nonzeros\n",
      "Presolved model has 76245 quadratic objective terms\n",
      "Variable types: 390 continuous, 390 integer (390 binary)\n",
      "Found heuristic solution: objective 0.0009032\n",
      "\n",
      "Root relaxation: objective 2.878501e-05, 129 iterations, 0.01 seconds\n",
      "\n",
      "    Nodes    |    Current Node    |     Objective Bounds      |     Work\n",
      " Expl Unexpl |  Obj  Depth IntInf | Incumbent    BestBd   Gap | It/Node Time\n",
      "\n",
      "     0     0    0.00003    0   21    0.00090    0.00003  96.8%     -    0s\n",
      "H    0     0                       0.0000744    0.00003  61.3%     -    0s\n",
      "     0     0    0.00003    0   21    0.00007    0.00003  61.3%     -    0s\n",
      "     0     0    0.00003    0   21    0.00007    0.00003  61.3%     -    0s\n",
      "     0     2    0.00003    0   21    0.00007    0.00003  60.2%     -    0s\n",
      "H  140    90                       0.0000724    0.00003  59.1%  57.7    0s\n",
      "H  143    90                       0.0000723    0.00003  59.0%  57.0    0s\n",
      "H  394   238                       0.0000676    0.00003  56.2%  44.8    1s\n",
      "H 1044   488                       0.0000675    0.00003  55.7%  60.9    1s\n",
      "  3449  1290    0.00006   58   22    0.00007    0.00003  48.8%  59.3    5s\n",
      " 13494  5955    0.00006   30   16    0.00007    0.00004  34.3%  42.1   10s\n",
      " 24292  9614     cutoff   26         0.00007    0.00005  23.3%  38.8   15s\n",
      " 30995  9884     cutoff   29         0.00007    0.00006  15.8%  37.6   20s\n",
      " 35949  8370    0.00007   41   27    0.00007    0.00006  11.1%  43.8   25s\n",
      "\n",
      "Cutting planes:\n",
      "  MIR: 24\n",
      "  Flow cover: 5\n",
      "\n",
      "Explored 38182 nodes (1762744 simplex iterations) in 27.10 seconds\n",
      "Thread count was 8 (of 8 available processors)\n",
      "\n",
      "Solution count 6: 6.75347e-05 6.75857e-05 7.23026e-05 ... 0.000903152\n",
      "\n",
      "Optimal solution found (tolerance 1.00e-01)\n",
      "Best objective 6.753470760728e-05, best bound 6.078335038225e-05, gap 9.9969%\n"
     ]
    }
   ],
   "source": [
    "#Model 3\n",
    "mod3 = Model()\n",
    "\n",
    "#returns of the four stocks\n",
    "s = mod3.addVars(len(avg_return))\n",
    "limits = mod3.addVars(len(avg_return), vtype = GRB.BINARY)\n",
    "mod3.Params.MIPGap = 0.1\n",
    "\n",
    "#get covaraiance for the relavent stocks\n",
    "cov3 = np.zeros((len(avg_return),len(avg_return)))\n",
    "for x in range(len(avg_return)):\n",
    "    for y in range(len(avg_return)):\n",
    "        cov3[x][y] = C[x][y]\n",
    "\n",
    "#Constriants\n",
    "Int1_con = mod3.addConstr(sum(s[x] for x in range(len(avg_return))) == 1)\n",
    "return_con = mod3.addConstr(sum(s[x] * avg_return[x] for x in range(len(avg_return))) >= 0.005)\n",
    "\n",
    "#Non Neg con\n",
    "for x in range(len(avg_return)):\n",
    "    mod3.addConstr(s[x] >= 0)\n",
    "\n",
    "#limited transcation constraints\n",
    "limit_con = mod3.addConstr(sum(limits[x] for x in range(len(avg_return))) <= 4)\n",
    "for x in range(len(avg_return)):\n",
    "    mod3.addConstr(s[x] * limits[x] == s[x])\n",
    "\n",
    "#Objective\n",
    "mod3.setObjective(sum(sum(s[x] * s[y] * cov3[x][y] for x in range(len(avg_return))) for y in range(len(avg_return))), GRB.MINIMIZE)\n",
    "mod3.update()\n",
    "mod3.optimize()"
   ]
  },
  {
   "cell_type": "code",
   "execution_count": 19,
   "metadata": {},
   "outputs": [
    {
     "data": {
      "text/plain": [
       "6.753470760728118e-05"
      ]
     },
     "execution_count": 19,
     "metadata": {},
     "output_type": "execute_result"
    }
   ],
   "source": [
    "mod3.objVal"
   ]
  },
  {
   "cell_type": "markdown",
   "metadata": {},
   "source": [
    "# Questions"
   ]
  },
  {
   "cell_type": "markdown",
   "metadata": {},
   "source": [
    "1.a) Model 1\n",
    "<br> Optimal Risk: 0.00017749326516582024\n",
    "<br> Solver Time: 0.09099960327148438\n",
    "<br> \n",
    "<br> Weight: \n",
    ">MSFT: 23.7%\n",
    "<br>         GS: 2.6%\n",
    "<br>         PG: 0%\n",
    "<br>         SCHP: 73.7%"
   ]
  },
  {
   "cell_type": "markdown",
   "metadata": {},
   "source": [
    "1.b) Model 2\n",
    "<br> Optimal Risk: 2.8785756399295937e-05\n",
    "<br> Solver Time: 0.1480865478515625"
   ]
  },
  {
   "cell_type": "markdown",
   "metadata": {},
   "source": [
    "1.c) Model 3\n",
    "<br> Optimal Risk: 6.753470760728118e-05\n",
    "<br> Solver Time: 43.41264343261719\n",
    "<br> \n",
    "<br> Weight:\n",
    "> CME: 12.64%\n",
    "<br>LLY: 7.55%\n",
    "<br>NVDA: 4.37%\n",
    "<br>BND: 75.44%"
   ]
  },
  {
   "cell_type": "markdown",
   "metadata": {},
   "source": [
    "2.a)\n",
    "<br> Higher, because Model 2 has variable pool of 390, much larger than Model 1, thus more likely to get a better optimal solution\n",
    "<br>\n",
    "<br>2.b)\n",
    "<br> Lower, because Model 3 has limited transcation, which limits its ability to make more optimal combionation of stocks"
   ]
  },
  {
   "cell_type": "markdown",
   "metadata": {},
   "source": [
    "3.a)\n",
    "<br> Optimal Time: 6.753470760728118e-05 \n",
    "<br>remains the same.\n",
    "<br>\n",
    "<br> 3.b)\n",
    "<br> Run Time: 27.106000900268555 \n",
    "<br>lower"
   ]
  },
  {
   "cell_type": "code",
   "execution_count": null,
   "metadata": {},
   "outputs": [],
   "source": []
  }
 ],
 "metadata": {
  "kernelspec": {
   "display_name": "Python 3",
   "language": "python",
   "name": "python3"
  },
  "language_info": {
   "codemirror_mode": {
    "name": "ipython",
    "version": 3
   },
   "file_extension": ".py",
   "mimetype": "text/x-python",
   "name": "python",
   "nbconvert_exporter": "python",
   "pygments_lexer": "ipython3",
   "version": "3.7.3"
  }
 },
 "nbformat": 4,
 "nbformat_minor": 4
}
