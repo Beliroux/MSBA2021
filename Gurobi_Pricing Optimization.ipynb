{
 "cells": [
  {
   "cell_type": "markdown",
   "metadata": {},
   "source": [
    "# MGMTMSA 403 Assignment 3: Predicting Airbnb Prices"
   ]
  },
  {
   "cell_type": "markdown",
   "metadata": {},
   "source": [
    "#### By Xiaoyi Wang"
   ]
  },
  {
   "cell_type": "code",
   "execution_count": 26,
   "metadata": {},
   "outputs": [],
   "source": [
    "import numpy as np\n",
    "import pandas as pd\n",
    "from gurobipy import *\n",
    "\n",
    "train = pd.read_csv(\"AirbnbTrain.csv\")\n",
    "test = pd.read_csv(\"AirbnbTest.csv\")"
   ]
  },
  {
   "cell_type": "code",
   "execution_count": 42,
   "metadata": {},
   "outputs": [],
   "source": [
    "train = train[~train.isin(['Nan']).any(1)].reset_index(drop=True)\n",
    "test = test[~test.isin(['Nan']).any(1)].reset_index(drop=True)"
   ]
  },
  {
   "cell_type": "code",
   "execution_count": 168,
   "metadata": {},
   "outputs": [
    {
     "name": "stdout",
     "output_type": "stream",
     "text": [
      "Gurobi Optimizer version 9.1.0 build v9.1.0rc0 (win64)\n",
      "Thread count: 4 physical cores, 8 logical processors, using up to 8 threads\n",
      "Optimize a model with 1700 rows, 24 columns and 18977 nonzeros\n",
      "Model fingerprint: 0x6a32346e\n",
      "Model has 12 quadratic constraints\n",
      "Variable types: 12 continuous, 12 integer (12 binary)\n",
      "Coefficient statistics:\n",
      "  Matrix range     [5e-01, 5e+02]\n",
      "  QMatrix range    [1e+00, 1e+00]\n",
      "  QLMatrix range   [1e+00, 1e+00]\n",
      "  Objective range  [1e+03, 2e+05]\n",
      "  Bounds range     [1e+00, 1e+00]\n",
      "  RHS range        [1e+00, 2e+03]\n",
      "Presolve removed 414 rows and 1 columns\n",
      "Presolve time: 0.01s\n",
      "Presolved: 1319 rows, 56 columns, 14410 nonzeros\n",
      "Presolved model has 22 SOS constraint(s)\n",
      "Variable types: 34 continuous, 22 integer (22 binary)\n",
      "\n",
      "Root relaxation: objective 1.374383e+06, 15 iterations, 0.01 seconds\n",
      "\n",
      "    Nodes    |    Current Node    |     Objective Bounds      |     Work\n",
      " Expl Unexpl |  Obj  Depth IntInf | Incumbent    BestBd   Gap | It/Node Time\n",
      "\n",
      "     0     0 1374382.89    0    5          - 1374382.89      -     -    0s\n",
      "H    0     0                    1.894370e+07 1374382.89  92.7%     -    0s\n",
      "H    0     0                    3150180.0698 1374382.89  56.4%     -    0s\n",
      "     0     0 1374382.89    0    5 3150180.07 1374382.89  56.4%     -    0s\n",
      "H    0     2                    1853192.3333 1374382.89  25.8%     -    0s\n",
      "     0     2 1374382.89    0    5 1853192.33 1374382.89  25.8%     -    0s\n",
      "*    8     6               3    1720740.3559 1461799.07  15.0%   3.5    0s\n",
      "*   16     6               5    1560192.3333 1500745.77  3.81%   2.8    0s\n",
      "\n",
      "Explored 23 nodes (65 simplex iterations) in 0.13 seconds\n",
      "Thread count was 8 (of 8 available processors)\n",
      "\n",
      "Solution count 5: 1.56019e+06 1.72074e+06 1.85319e+06 ... 1.89437e+07\n",
      "\n",
      "Optimal solution found (tolerance 1.00e-04)\n",
      "Best objective 1.560192333333e+06, best bound 1.560192333333e+06, gap 0.0000%\n"
     ]
    }
   ],
   "source": [
    "vnum = len(train.columns) -1\n",
    "cnum= len(train)\n",
    "tnum = len(test)\n",
    "p = list(train[train.columns[-1]])\n",
    "tp = list(test[test.columns[-1]])\n",
    "\n",
    "tr = train.values.tolist()\n",
    "te = test.values.tolist()\n",
    "\n",
    "#Model3\n",
    "bed_index = train.columns.get_loc(\"beds\")\n",
    "\n",
    "mod = Model()\n",
    "#Model1,2,3\n",
    "b = mod.addVars(vnum)\n",
    "#Model2\n",
    "l = mod.addVars(vnum, vtype = GRB.BINARY)\n",
    "\n",
    "#constraints\n",
    "for y in range(cnum):\n",
    "    #Model1,2,3\n",
    "    mod.addConstr((sum(b[x] * tr[y][x] for x in range(vnum)) - p[y]) >= 0)\n",
    "\n",
    "#Model 2\n",
    "limit_con = mod.addConstr(sum(l[x] for x in range(vnum)) == 3)\n",
    "for x in range(vnum):\n",
    "    mod.addConstr(b[x] * l[x] == b[x])\n",
    "\n",
    "#Model 3\n",
    "mod.addConstr(l[bed_index] == 1)\n",
    "\n",
    "mod.setObjective(sum(sum(b[x] * tr[y][x] for x in range(vnum)) - p[y] for y in range(cnum)), GRB.MINIMIZE)\n",
    "mod.update()\n",
    "mod.optimize()"
   ]
  },
  {
   "cell_type": "markdown",
   "metadata": {},
   "source": [
    "#### Model 1:"
   ]
  },
  {
   "cell_type": "code",
   "execution_count": 158,
   "metadata": {},
   "outputs": [
    {
     "name": "stdout",
     "output_type": "stream",
     "text": [
      "the prediction error is: -67.46 $/night\n"
     ]
    }
   ],
   "source": [
    "def PredEr(b):\n",
    "    result = 0\n",
    "    for x in range(vnum):\n",
    "        for y in range(tnum):\n",
    "            s = 0\n",
    "            s += b[x].X * te[y][x]\n",
    "        result += (s - tp[x])\n",
    "    result = result * (1 / vnum)\n",
    "    return result\n",
    "print('the prediction error is:' , \"{:.2f}\".format(PredEr(b)), '$/night')"
   ]
  },
  {
   "cell_type": "markdown",
   "metadata": {},
   "source": [
    "#### Model 2:"
   ]
  },
  {
   "cell_type": "code",
   "execution_count": 162,
   "metadata": {},
   "outputs": [
    {
     "name": "stdout",
     "output_type": "stream",
     "text": [
      "the prediction error is: -50.75 $/night\n",
      "the parameters used are: ['longitude', 'bathrooms', 'instant_bookable']\n",
      "the coefs of parame are: ['2.8228811', '778.0350216', '556.0070596']\n"
     ]
    }
   ],
   "source": [
    "def parameters(b):\n",
    "    parameters = []\n",
    "    for x in range(vnum):\n",
    "        if b[x].X != 0:\n",
    "            parameters.append(b[x].VarName)\n",
    "            \n",
    "    for x in range(len(parameters)):\n",
    "        parameters[x] = parameters[x][1:]\n",
    "        parameters[x] = test.columns[int(parameters[x])]\n",
    "    return parameters\n",
    "\n",
    "def coef(b):\n",
    "    coef = []\n",
    "    for x in range(vnum):\n",
    "        if b[x].X != 0:\n",
    "            coef.append(\"{:.7f}\".format(b[x].X))\n",
    "    return coef\n",
    "print('the prediction error is:' , \"{:.2f}\".format(PredEr(b)), '$/night')\n",
    "print('the parameters used are:' , parameters(b))\n",
    "print('the coefs of parame are:' , coef(b))"
   ]
  },
  {
   "cell_type": "markdown",
   "metadata": {},
   "source": [
    "#### Model 3:"
   ]
  },
  {
   "cell_type": "code",
   "execution_count": 169,
   "metadata": {},
   "outputs": [
    {
     "name": "stdout",
     "output_type": "stream",
     "text": [
      "the prediction error is: -50.75 $/night\n",
      "the parameters used are: ['bathrooms', 'instant_bookable']\n",
      "the coefs of parame are: ['666.6666667', '333.3333333']\n"
     ]
    }
   ],
   "source": [
    "print('the prediction error is:' , \"{:.2f}\".format(PredEr(b)), '$/night')\n",
    "print('the parameters used are:' , parameters(b))\n",
    "print('the coefs of parame are:' , coef(b))"
   ]
  },
  {
   "cell_type": "markdown",
   "metadata": {},
   "source": [
    "Longitude is no longer in the list which might be the coeficient is to low to have an impact on the prediction. It only exists in model 2 only because we force the model to pick 3 variables. Apparently 2 are enough to achieve a lower prediction error."
   ]
  }
 ],
 "metadata": {
  "kernelspec": {
   "display_name": "Python 3",
   "language": "python",
   "name": "python3"
  },
  "language_info": {
   "codemirror_mode": {
    "name": "ipython",
    "version": 3
   },
   "file_extension": ".py",
   "mimetype": "text/x-python",
   "name": "python",
   "nbconvert_exporter": "python",
   "pygments_lexer": "ipython3",
   "version": "3.7.3"
  }
 },
 "nbformat": 4,
 "nbformat_minor": 4
}
