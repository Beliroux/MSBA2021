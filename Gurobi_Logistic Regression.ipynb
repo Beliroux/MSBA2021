{
 "cells": [
  {
   "cell_type": "markdown",
   "metadata": {},
   "source": [
    "# MGMTMSA 403: Optimization\n",
    "# Assignment 4: Logistic Regression and Gradient Descent"
   ]
  },
  {
   "cell_type": "markdown",
   "metadata": {},
   "source": [
    "#### By Xiaoyi Wang"
   ]
  },
  {
   "cell_type": "code",
   "execution_count": 2,
   "metadata": {},
   "outputs": [],
   "source": [
    "import numpy as np\n",
    "import pandas as pd\n",
    "from gurobipy import *\n",
    "\n",
    "train = pd.read_csv(\"LRTrain.csv\")\n",
    "test = pd.read_csv(\"LRTest.csv\")"
   ]
  },
  {
   "cell_type": "code",
   "execution_count": 30,
   "metadata": {},
   "outputs": [],
   "source": [
    "vnum = len(train.columns) -1\n",
    "cnum= len(train)\n",
    "tnum = len(test)\n",
    "p = list(train[train.columns[-1]])\n",
    "tp = list(test[test.columns[-1]])\n",
    "\n",
    "tr = np.asarray(train[train.columns[:-1]].values.tolist())\n",
    "te = np.asarray(test[train.columns[:-1]].values.tolist())\n",
    "\n",
    "def grad_des(x,y):\n",
    "    \"\"\"compute gradient calculation\"\"\"\n",
    "    initial = [0] * vnum\n",
    "    step = 0.00001\n",
    "    T = 2000\n",
    "    \n",
    "    for ite in range(T):\n",
    "        for n in range(cnum):\n",
    "            prod = np.dot (x[n][:], initial)\n",
    "            prob = 1 / (1 + np.exp(-prod))\n",
    "            grad = 1/cnum * np.dot(x[n][:].T, (prob - y[n]))\n",
    "            initial = initial - step * grad\n",
    "    return initial\n"
   ]
  },
  {
   "cell_type": "markdown",
   "metadata": {},
   "source": [
    "#### Question 1"
   ]
  },
  {
   "cell_type": "code",
   "execution_count": 33,
   "metadata": {},
   "outputs": [],
   "source": [
    "model = grad_des(tr,p)"
   ]
  },
  {
   "cell_type": "code",
   "execution_count": 34,
   "metadata": {},
   "outputs": [
    {
     "data": {
      "text/plain": [
       "array([-6.89960306e-03, -1.25887017e-02, -3.99130814e-02, -1.72920867e-02,\n",
       "       -6.70114651e-05,  2.89352496e-05,  1.25197071e-04,  5.49570177e-05,\n",
       "       -1.36883969e-04, -5.57485320e-05, -8.44038939e-05, -1.04967482e-03,\n",
       "       -1.41863109e-04,  8.01270335e-03, -3.82309770e-06,  5.95685500e-06,\n",
       "        1.30479004e-05,  2.64932024e-06, -1.35122556e-05, -1.85488727e-06,\n",
       "       -7.11680360e-03, -1.63213789e-02, -3.82758567e-02,  2.35452761e-02,\n",
       "       -8.51252444e-05,  1.39512577e-04,  2.64886133e-04,  7.15231105e-05,\n",
       "       -1.85735490e-04, -5.40257804e-05])"
      ]
     },
     "execution_count": 34,
     "metadata": {},
     "output_type": "execute_result"
    }
   ],
   "source": [
    "model"
   ]
  },
  {
   "cell_type": "markdown",
   "metadata": {},
   "source": [
    "#### Question 2"
   ]
  },
  {
   "cell_type": "code",
   "execution_count": 66,
   "metadata": {},
   "outputs": [],
   "source": [
    "stats = []\n",
    "stats.append(['t','TPR','FPR','TNR','FNR'])\n",
    "\n",
    "for th in np.linspace(0,1,11):\n",
    "    pred = []\n",
    "    for n in range(tnum):\n",
    "        if np.dot(model, te[n][:]) >= th:\n",
    "            pred.append(1)\n",
    "        else:\n",
    "            pred.append(0)\n",
    "    pos = pred.count(1)\n",
    "    neg = pred.count(0)\n",
    "    pred = np.asarray(pred)\n",
    "    t_pos = 0\n",
    "    f_pos = 0\n",
    "    for n in range(tnum):\n",
    "        if pred[n] == 1:\n",
    "            if tp[n] == 1:\n",
    "                t_pos += 1\n",
    "            else:\n",
    "                f_pos += 1\n",
    "    TPR = t_pos / pos\n",
    "    FNR = 1 - TPR\n",
    "    FPR = f_pos / neg\n",
    "    TNR = 1 - FPR\n",
    "    \n",
    "    stats.append([\"{:.1f}\".format(th), \"{:.2%}\".format(TPR), \"{:.2%}\".format(FPR), \"{:.2%}\".format(TNR), \"{:.2%}\".format(FNR)])"
   ]
  },
  {
   "cell_type": "code",
   "execution_count": 71,
   "metadata": {},
   "outputs": [
    {
     "name": "stdout",
     "output_type": "stream",
     "text": [
      "t       TPR       FPR       TNR       FNR       \n",
      "\n",
      "0.0    92.31%    3.93%    96.07%    7.69%    \n",
      "\n",
      "0.1    93.33%    3.35%    96.65%    6.67%    \n",
      "\n",
      "0.2    94.32%    2.76%    97.24%    5.68%    \n",
      "\n",
      "0.3    94.32%    2.76%    97.24%    5.68%    \n",
      "\n",
      "0.4    94.32%    2.76%    97.24%    5.68%    \n",
      "\n",
      "0.5    94.19%    2.73%    97.27%    5.81%    \n",
      "\n",
      "0.6    94.05%    2.70%    97.30%    5.95%    \n",
      "\n",
      "0.7    97.47%    1.05%    98.95%    2.53%    \n",
      "\n",
      "0.8    97.47%    1.05%    98.95%    2.53%    \n",
      "\n",
      "0.9    97.47%    1.05%    98.95%    2.53%    \n",
      "\n",
      "1.0    97.47%    1.05%    98.95%    2.53%    \n",
      "\n"
     ]
    }
   ],
   "source": [
    "for x in range(len(stats)):\n",
    "    for y in range(len(stats[0])):\n",
    "        if x == 0:\n",
    "            print(stats[x][y],'      ', end = '')\n",
    "        else:\n",
    "            print(stats[x][y],'   ', end = '')\n",
    "    print('\\n')"
   ]
  }
 ],
 "metadata": {
  "kernelspec": {
   "display_name": "Python 3",
   "language": "python",
   "name": "python3"
  },
  "language_info": {
   "codemirror_mode": {
    "name": "ipython",
    "version": 3
   },
   "file_extension": ".py",
   "mimetype": "text/x-python",
   "name": "python",
   "nbconvert_exporter": "python",
   "pygments_lexer": "ipython3",
   "version": "3.7.3"
  }
 },
 "nbformat": 4,
 "nbformat_minor": 4
}
